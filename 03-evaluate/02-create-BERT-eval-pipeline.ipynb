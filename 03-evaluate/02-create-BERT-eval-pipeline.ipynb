{
 "cells": [
  {
   "cell_type": "code",
   "execution_count": 2,
   "id": "e4e2dc0e-10fd-4d0d-90d6-ee32f0f1744e",
   "metadata": {
    "tags": []
   },
   "outputs": [],
   "source": [
    "import pandas as pd"
   ]
  },
  {
   "cell_type": "code",
   "execution_count": 4,
   "id": "7f94f3e6-618e-47f3-b39a-dd41a3f4c042",
   "metadata": {
    "tags": []
   },
   "outputs": [],
   "source": [
    "pd.options.display.max_colwidth = None"
   ]
  },
  {
   "cell_type": "code",
   "execution_count": 9,
   "id": "4dfb2489-a6c5-4b33-a007-1df3f26817a6",
   "metadata": {
    "tags": []
   },
   "outputs": [
    {
     "data": {
      "text/html": [
       "<div>\n",
       "<style scoped>\n",
       "    .dataframe tbody tr th:only-of-type {\n",
       "        vertical-align: middle;\n",
       "    }\n",
       "\n",
       "    .dataframe tbody tr th {\n",
       "        vertical-align: top;\n",
       "    }\n",
       "\n",
       "    .dataframe thead th {\n",
       "        text-align: right;\n",
       "    }\n",
       "</style>\n",
       "<table border=\"1\" class=\"dataframe\">\n",
       "  <thead>\n",
       "    <tr style=\"text-align: right;\">\n",
       "      <th></th>\n",
       "      <th>question</th>\n",
       "      <th>answer</th>\n",
       "      <th>custom_gpt2_answer</th>\n",
       "      <th>oob_gpt2_answer</th>\n",
       "      <th>bert_score_custom_gpt2</th>\n",
       "      <th>bert_score_oob_gpt2</th>\n",
       "      <th>reward</th>\n",
       "    </tr>\n",
       "  </thead>\n",
       "  <tbody>\n",
       "    <tr>\n",
       "      <th>0</th>\n",
       "      <td>i have a few symptoms like the stomachache, congestion, and diarrhea but no fever. is it possible i have the virus?</td>\n",
       "      <td>stomach troubles aren't a common symptom of the coronavirus, but a fever is a key symptom, so it's unlikely that you have it. however, if you have any questions, call ahead to your doctor and make an appointment.</td>\n",
       "      <td>yes! while we are still learning about how covid-2019 affects people’s health more information can be found on cdc website (pdf)</td>\n",
       "      <td>yes! you may be able to get covid-19 from eating raw meat or poultry that has been contaminated with sarsaparic acid (sARS) in your food source for at least 20 days after exposure so there are some signs of illness associated if this happens during those 30 day period when people eat foods high on antibiotics such as chicken breast soup instead</td>\n",
       "      <td>0.830807</td>\n",
       "      <td>0.819558</td>\n",
       "      <td>0.011249</td>\n",
       "    </tr>\n",
       "    <tr>\n",
       "      <th>1</th>\n",
       "      <td>what if my time off is not approved and i don’t come to work?</td>\n",
       "      <td>you will be treated just as you would if you did not show up for work any other time. employees failing to come to work without approved leave time may be subject to discipline per the applicable collective bargaining agreement or compensation plan.</td>\n",
       "      <td>you can volunteer at a food bank or other community organization. make sure they have the supplies where their workers are, as well your insurance information so that when someone in an essential business like grocery stores becomes ill it doesn't affect them financially but cannot donate money directly toward those who need help with groceries during this pandemic (or else)</td>\n",
       "      <td>you can contact your employer or the local fire department for assistance with contacting their office regarding a potential employee who may be unable due leave. they will provide information about how long it takes them until an individual has been in place, such as when hours are reduced (e-mailing) onsite/out of state by telephone call; where employees should go out during this period without interruption while working from home but do so at least</td>\n",
       "      <td>0.817220</td>\n",
       "      <td>0.832336</td>\n",
       "      <td>-0.015117</td>\n",
       "    </tr>\n",
       "    <tr>\n",
       "      <th>2</th>\n",
       "      <td>where can i find more information about animals and covid-19?</td>\n",
       "      <td>for more information, check out the following websites: cdc covid-19: pets and other animals cdc: frequently asked questions, covid-19 and animals cdc: interim guidance for public health professionals managing people with covid-19 in home care and isolation who have pets or other animals cdc: healthy pets, healthy people cdc: covid-19 daily life and coping, if you have animals avma: interim recommendations for intake of companion animals from households where humans with covid-19 are present</td>\n",
       "      <td>the centers for disease control (cdc) is constantly updating its website with resources to help people understand this new virus. if you or someone in your family has questions, reach out via email at afnrsa@vdh3sorg/coronavirus—or call 804‑234–7364 –and ask them on facebook messenger! they’ll answer any queries that come their way through these chats; otherwise we encourage anyone who's interested by reading what cdc guidance applies here.</td>\n",
       "      <td>the cdc has a list of animal health organizations that are working on prevention, treatment strategies for people with or without symptoms associatedcov infection. see https://www/cdphs’vegetarianscoronavirus/.</td>\n",
       "      <td>0.798086</td>\n",
       "      <td>0.806660</td>\n",
       "      <td>-0.008574</td>\n",
       "    </tr>\n",
       "    <tr>\n",
       "      <th>3</th>\n",
       "      <td>what precautions should i take during travel?</td>\n",
       "      <td>during travel, everyone should clean hands frequently, cough or sneeze into a bent elbow or tissue, and try to maintain a physical distance of at least one metre from others. travelers should follow the recommendations of the travel authorities regarding policies in the airport and of the airline for the flight.</td>\n",
       "      <td>if you have been in close contact with someone suspected of having covid-19, or are feeling unwell (like coughing), avoid touching your face. this includes phones and other electronic devices that might be used by people who were not well before the outbreak began—something like shaking hands; washing clothes often after going to work while wearing a mask.; covering coughs/stressed mouths when sneezing cannot rubbed on surfaces as an extra precaution against coronavirusorish materialismshould always go hand over mouthpiece!</td>\n",
       "      <td>you can follow the guidance from your healthcare provider if a person is sick with covid-19 and they are traveling to or arriving at an area where there has been no confirmed case of coronavirus. for more information, visit https://www2ndcov/traveling/.</td>\n",
       "      <td>0.823299</td>\n",
       "      <td>0.826669</td>\n",
       "      <td>-0.003371</td>\n",
       "    </tr>\n",
       "    <tr>\n",
       "      <th>4</th>\n",
       "      <td>use a contactless payment method if you can.</td>\n",
       "      <td>to avoid spreading germs during a cash or credit card transaction, look into whether your grocery store accepts any forms of payment that don't require you to touch a keypad or grab a handful of change. for instance, point-of-sale systems feature a type of technology that allows you to simply wave your card over a card reader in order to pay for your goods. some places may also accept mobile payments at the register through services like paypal, apple pay, or google pay.</td>\n",
       "      <td>many stores have apps that allow shoppers to pay with their phones, so try using the app instead of cash or credit cards as an alternative way for shopping carts and food items during this pandemic period!click here</td>\n",
       "      <td>check your bank account or credit card number to see what kind of payments are available for the purchase and processing fee that will be charged on each transaction, including cashier's checks (if any), debit/credit cards with an expiration date in excess days due dates listed above as well coinsurance claims made by customers who have not yet paid their balances but wish they could receive them via e-mail within 30 calendar day after receiving it from us at this time</td>\n",
       "      <td>0.863554</td>\n",
       "      <td>0.825531</td>\n",
       "      <td>0.038023</td>\n",
       "    </tr>\n",
       "  </tbody>\n",
       "</table>\n",
       "</div>"
      ],
      "text/plain": [
       "                                                                                                              question  \\\n",
       "0  i have a few symptoms like the stomachache, congestion, and diarrhea but no fever. is it possible i have the virus?   \n",
       "1                                                        what if my time off is not approved and i don’t come to work?   \n",
       "2                                                        where can i find more information about animals and covid-19?   \n",
       "3                                                                        what precautions should i take during travel?   \n",
       "4                                                                         use a contactless payment method if you can.   \n",
       "\n",
       "                                                                                                                                                                                                                                                                                                                                                                                                                                                                                                             answer  \\\n",
       "0                                                                                                                                                                                                                                                                                              stomach troubles aren't a common symptom of the coronavirus, but a fever is a key symptom, so it's unlikely that you have it. however, if you have any questions, call ahead to your doctor and make an appointment.   \n",
       "1                                                                                                                                                                                                                                                         you will be treated just as you would if you did not show up for work any other time. employees failing to come to work without approved leave time may be subject to discipline per the applicable collective bargaining agreement or compensation plan.   \n",
       "2  for more information, check out the following websites: cdc covid-19: pets and other animals cdc: frequently asked questions, covid-19 and animals cdc: interim guidance for public health professionals managing people with covid-19 in home care and isolation who have pets or other animals cdc: healthy pets, healthy people cdc: covid-19 daily life and coping, if you have animals avma: interim recommendations for intake of companion animals from households where humans with covid-19 are present   \n",
       "3                                                                                                                                                                                         during travel, everyone should clean hands frequently, cough or sneeze into a bent elbow or tissue, and try to maintain a physical distance of at least one metre from others. travelers should follow the recommendations of the travel authorities regarding policies in the airport and of the airline for the flight.   \n",
       "4                       to avoid spreading germs during a cash or credit card transaction, look into whether your grocery store accepts any forms of payment that don't require you to touch a keypad or grab a handful of change. for instance, point-of-sale systems feature a type of technology that allows you to simply wave your card over a card reader in order to pay for your goods. some places may also accept mobile payments at the register through services like paypal, apple pay, or google pay.   \n",
       "\n",
       "                                                                                                                                                                                                                                                                                                                                                                                                                                                                                                                                  custom_gpt2_answer  \\\n",
       "0                                                                                                                                                                                                                                                                                                                                                                                                                  yes! while we are still learning about how covid-2019 affects people’s health more information can be found on cdc website (pdf)    \n",
       "1                                                                                                                                                          you can volunteer at a food bank or other community organization. make sure they have the supplies where their workers are, as well your insurance information so that when someone in an essential business like grocery stores becomes ill it doesn't affect them financially but cannot donate money directly toward those who need help with groceries during this pandemic (or else)   \n",
       "2                                                                                       the centers for disease control (cdc) is constantly updating its website with resources to help people understand this new virus. if you or someone in your family has questions, reach out via email at afnrsa@vdh3sorg/coronavirus—or call 804‑234–7364 –and ask them on facebook messenger! they’ll answer any queries that come their way through these chats; otherwise we encourage anyone who's interested by reading what cdc guidance applies here.   \n",
       "3  if you have been in close contact with someone suspected of having covid-19, or are feeling unwell (like coughing), avoid touching your face. this includes phones and other electronic devices that might be used by people who were not well before the outbreak began—something like shaking hands; washing clothes often after going to work while wearing a mask.; covering coughs/stressed mouths when sneezing cannot rubbed on surfaces as an extra precaution against coronavirusorish materialismshould always go hand over mouthpiece!   \n",
       "4                                                                                                                                                                                                                                                                                                                           many stores have apps that allow shoppers to pay with their phones, so try using the app instead of cash or credit cards as an alternative way for shopping carts and food items during this pandemic period!click here    \n",
       "\n",
       "                                                                                                                                                                                                                                                                                                                                                                                                                                                                             oob_gpt2_answer  \\\n",
       "0                                                                                                                                 yes! you may be able to get covid-19 from eating raw meat or poultry that has been contaminated with sarsaparic acid (sARS) in your food source for at least 20 days after exposure so there are some signs of illness associated if this happens during those 30 day period when people eat foods high on antibiotics such as chicken breast soup instead   \n",
       "1                    you can contact your employer or the local fire department for assistance with contacting their office regarding a potential employee who may be unable due leave. they will provide information about how long it takes them until an individual has been in place, such as when hours are reduced (e-mailing) onsite/out of state by telephone call; where employees should go out during this period without interruption while working from home but do so at least   \n",
       "2                                                                                                                                                                                                                                                                         the cdc has a list of animal health organizations that are working on prevention, treatment strategies for people with or without symptoms associatedcov infection. see https://www/cdphs’vegetarianscoronavirus/.   \n",
       "3                                                                                                                                                                                                                              you can follow the guidance from your healthcare provider if a person is sick with covid-19 and they are traveling to or arriving at an area where there has been no confirmed case of coronavirus. for more information, visit https://www2ndcov/traveling/.   \n",
       "4  check your bank account or credit card number to see what kind of payments are available for the purchase and processing fee that will be charged on each transaction, including cashier's checks (if any), debit/credit cards with an expiration date in excess days due dates listed above as well coinsurance claims made by customers who have not yet paid their balances but wish they could receive them via e-mail within 30 calendar day after receiving it from us at this time   \n",
       "\n",
       "   bert_score_custom_gpt2  bert_score_oob_gpt2    reward  \n",
       "0                0.830807             0.819558  0.011249  \n",
       "1                0.817220             0.832336 -0.015117  \n",
       "2                0.798086             0.806660 -0.008574  \n",
       "3                0.823299             0.826669 -0.003371  \n",
       "4                0.863554             0.825531  0.038023  "
      ]
     },
     "execution_count": 9,
     "metadata": {},
     "output_type": "execute_result"
    }
   ],
   "source": [
    "df =pd.read_csv('./data/eval_results.csv')\n",
    "df.head()"
   ]
  },
  {
   "cell_type": "code",
   "execution_count": null,
   "id": "fcf8c24e-63a6-4ec6-88c0-cb56dbaff20b",
   "metadata": {},
   "outputs": [],
   "source": []
  },
  {
   "cell_type": "code",
   "execution_count": null,
   "id": "06560c47-b9e2-4f6a-a226-1f3155b3484d",
   "metadata": {},
   "outputs": [],
   "source": []
  },
  {
   "cell_type": "code",
   "execution_count": null,
   "id": "132caafd-2001-4654-967b-a8a470d59186",
   "metadata": {},
   "outputs": [],
   "source": []
  },
  {
   "cell_type": "code",
   "execution_count": null,
   "id": "722a1b7a-eabf-4d17-a38a-e021f6063311",
   "metadata": {},
   "outputs": [],
   "source": []
  },
  {
   "cell_type": "code",
   "execution_count": null,
   "id": "4d0603da-ff33-41ad-adf8-4b579efd244c",
   "metadata": {},
   "outputs": [],
   "source": []
  }
 ],
 "metadata": {
  "instance_type": "ml.t3.medium",
  "kernelspec": {
   "display_name": "Python 3 (Data Science)",
   "language": "python",
   "name": "python3__SAGEMAKER_INTERNAL__arn:aws:sagemaker:us-east-1:081325390199:image/datascience-1.0"
  },
  "language_info": {
   "codemirror_mode": {
    "name": "ipython",
    "version": 3
   },
   "file_extension": ".py",
   "mimetype": "text/x-python",
   "name": "python",
   "nbconvert_exporter": "python",
   "pygments_lexer": "ipython3",
   "version": "3.7.10"
  }
 },
 "nbformat": 4,
 "nbformat_minor": 5
}
