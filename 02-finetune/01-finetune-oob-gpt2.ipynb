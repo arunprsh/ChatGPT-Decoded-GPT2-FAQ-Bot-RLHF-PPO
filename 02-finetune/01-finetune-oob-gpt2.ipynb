{
 "cells": [
  {
   "cell_type": "markdown",
   "id": "ebbe2d62-aaba-4ad4-a97e-c6057ada8d43",
   "metadata": {},
   "source": [
    "##### Prerequisites"
   ]
  },
  {
   "cell_type": "code",
   "execution_count": null,
   "id": "87a7f771-c229-4d06-a184-61086c2f6e3f",
   "metadata": {
    "tags": []
   },
   "outputs": [],
   "source": [
    "%%capture\n",
    "\n",
    "!pip install --upgrade jupyter\n",
    "!pip install --upgrade ipywidgets\n",
    "!jupyter nbextension enable --py widgetsnbextension"
   ]
  },
  {
   "cell_type": "code",
   "execution_count": null,
   "id": "f5114e05-6bc6-44dd-b635-7c0a4b960650",
   "metadata": {
    "tags": []
   },
   "outputs": [],
   "source": [
    "%%capture\n",
    "\n",
    "!pip install transformers==4.18.0\n",
    "!pip install datasets==2.9.0\n",
    "!pip install pandas==1.4.1\n",
    "!pip install numpy==1.22.2\n",
    "!pip install torch==1.8.1"
   ]
  },
  {
   "cell_type": "markdown",
   "id": "4821d30c-2676-4440-b00f-fe292eed9070",
   "metadata": {},
   "source": [
    "#### Imports "
   ]
  },
  {
   "cell_type": "code",
   "execution_count": null,
   "id": "b148e229-3459-4f37-8174-4aed38af8685",
   "metadata": {
    "tags": []
   },
   "outputs": [],
   "source": [
    "from transformers import TrainingArguments\n",
    "from transformers import GPT2LMHeadModel\n",
    "from transformers import GPT2Tokenizer\n",
    "from transformers import Trainer\n",
    "import transformers \n",
    "import numpy as np\n",
    "import datasets\n",
    "import logging \n",
    "import torch"
   ]
  },
  {
   "cell_type": "markdown",
   "id": "858a33d6-83e9-40b5-a61d-e6f7869028c9",
   "metadata": {},
   "source": [
    "##### Setup logging"
   ]
  },
  {
   "cell_type": "code",
   "execution_count": null,
   "id": "f5875531-bb9d-4aee-9ade-e5d0a2c394d6",
   "metadata": {
    "tags": []
   },
   "outputs": [],
   "source": [
    "logger = logging.getLogger('sagemaker')\n",
    "logger.setLevel(logging.DEBUG)\n",
    "logger.addHandler(logging.StreamHandler())"
   ]
  },
  {
   "cell_type": "markdown",
   "id": "36c825d3-09e0-4b49-b644-d283f42019b8",
   "metadata": {},
   "source": [
    "##### Log versions of dependencies "
   ]
  },
  {
   "cell_type": "code",
   "execution_count": null,
   "id": "825f8943-e454-447f-a374-b8d72dc26102",
   "metadata": {
    "tags": []
   },
   "outputs": [],
   "source": [
    "logger.info(f'[Using transformers version: {transformers.__version__}]')\n",
    "logger.info(f'[Using datasets version: {datasets.__version__}]')\n",
    "logger.info(f'[Using torch version: {torch.__version__}]')\n",
    "logger.info(f'[Using numpy version: {np.__version__}]')"
   ]
  },
  {
   "cell_type": "markdown",
   "id": "af98b39c-331b-478e-9794-a4210f19cbd6",
   "metadata": {},
   "source": [
    "##### Setup essentials "
   ]
  },
  {
   "cell_type": "code",
   "execution_count": null,
   "id": "93451546-6fa0-4b90-aa5e-254ef117d24c",
   "metadata": {
    "tags": []
   },
   "outputs": [],
   "source": [
    "SAVE_TOTAL_LIMIT = 2\n",
    "SAVE_STEPS = 10000\n",
    "TRAIN_EPOCHS = 10\n",
    "BATCH_SIZE = 8"
   ]
  },
  {
   "cell_type": "markdown",
   "id": "0024bed2-4c4c-4674-836f-601c9f4348c5",
   "metadata": {},
   "source": [
    "#### Load tokenized dataset "
   ]
  },
  {
   "cell_type": "code",
   "execution_count": null,
   "id": "35bf10e8-ade5-429e-b644-25ee4e14eeb6",
   "metadata": {},
   "outputs": [],
   "source": [
    "reloaded_dataset = datasets.load_from_disk('.././01-tokenize/data/tokenized')\n",
    "reloaded_dataset"
   ]
  },
  {
   "cell_type": "code",
   "execution_count": null,
   "id": "425ac1fb-47ee-4bb1-bd5c-e2a1797d4c99",
   "metadata": {
    "tags": []
   },
   "outputs": [],
   "source": []
  },
  {
   "cell_type": "code",
   "execution_count": null,
   "id": "a9072ebd-c81a-4525-acbd-d1d59e5c709f",
   "metadata": {
    "tags": []
   },
   "outputs": [],
   "source": [
    "reloaded_dataset['train']"
   ]
  },
  {
   "cell_type": "code",
   "execution_count": null,
   "id": "871eedf2-7d3c-405d-8c21-c1afeccdc7d8",
   "metadata": {
    "tags": []
   },
   "outputs": [],
   "source": [
    "len(reloaded_dataset['train']['input_ids'])"
   ]
  },
  {
   "cell_type": "markdown",
   "id": "4efd3390-7481-4e1f-bcb3-d8f23c0c2e37",
   "metadata": {},
   "source": [
    "#### Re-load custom tokenizer "
   ]
  },
  {
   "cell_type": "code",
   "execution_count": null,
   "id": "5269f0fb-ab56-412f-aad0-b6f8cdab4c07",
   "metadata": {
    "tags": []
   },
   "outputs": [],
   "source": [
    "tokenizer = GPT2Tokenizer.from_pretrained('.././01-tokenize/vocab', \n",
    "                                          bos_token='<|startoftext|>',\n",
    "                                          eos_token='<|endoftext|>', \n",
    "                                          pad_token='<|pad|>', return_tensors='pt')\n",
    "tokenizer.padding_side = 'left'\n",
    "tokenizer.model_max_length = 512\n",
    "logger.info(f'Tokenizer: {tokenizer}')"
   ]
  },
  {
   "cell_type": "markdown",
   "id": "f0a360e9-9060-49b5-91ae-55ccee9d924b",
   "metadata": {},
   "source": [
    "#### Re-load custom model from HuggingFace Hub"
   ]
  },
  {
   "cell_type": "code",
   "execution_count": null,
   "id": "784ce134-ad54-4559-b652-d6134f92c0c4",
   "metadata": {
    "tags": []
   },
   "outputs": [],
   "source": [
    "model = GPT2LMHeadModel.from_pretrained('arun-shankar/GPT-2-covid-news-articles').cuda()\n",
    "model.resize_token_embeddings(len(tokenizer))"
   ]
  },
  {
   "cell_type": "code",
   "execution_count": null,
   "id": "90e2331e-c9ab-48d5-a57d-7640d210691a",
   "metadata": {
    "tags": []
   },
   "outputs": [],
   "source": [
    "def custom_data_collator(batch):\n",
    "    # batch size for data collation = per_device_train_batch_size * number of GPUs\n",
    "    input_ids = torch.stack([example['input_ids'] for example in batch])\n",
    "    attention_mask = torch.stack([example['attention_mask'] for example in batch])\n",
    "    labels = torch.stack([example['labels'] for example in batch])\n",
    "    return {'input_ids': input_ids, 'attention_mask': attention_mask, 'labels': labels}"
   ]
  },
  {
   "cell_type": "code",
   "execution_count": null,
   "id": "57bc6c01-1d7d-404f-b443-74ef5ebbcba8",
   "metadata": {
    "tags": []
   },
   "outputs": [],
   "source": [
    "training_args = TrainingArguments(output_dir='./model/custom-finetuned', \n",
    "                                  num_train_epochs=3,  \n",
    "                                  optim='adamw_torch', \n",
    "                                  save_strategy='steps', \n",
    "                                  evaluation_strategy='epoch',\n",
    "                                  per_device_train_batch_size=4, \n",
    "                                  per_device_eval_batch_size=4, \n",
    "                                  warmup_steps=10, \n",
    "                                  weight_decay=0.01, \n",
    "                                  logging_dir='logs')\n"
   ]
  },
  {
   "cell_type": "code",
   "execution_count": null,
   "id": "4436dddd-ec65-46b1-8570-a7d4c558e8d8",
   "metadata": {},
   "outputs": [],
   "source": [
    "Trainer(model=model, \n",
    "        args=training_args, \n",
    "        train_dataset=reloaded_dataset['train'], \n",
    "        eval_dataset=reloaded_dataset['validation'],\n",
    "        data_collator=custom_data_collator).train()"
   ]
  },
  {
   "cell_type": "code",
   "execution_count": null,
   "id": "9a1ac639-31fd-45dd-8312-fa6a3f0a66e5",
   "metadata": {},
   "outputs": [],
   "source": [
    "\n"
   ]
  },
  {
   "cell_type": "code",
   "execution_count": null,
   "id": "97879c57-d3e1-40a4-b1c9-5fd577b39318",
   "metadata": {},
   "outputs": [],
   "source": []
  },
  {
   "cell_type": "code",
   "execution_count": null,
   "id": "ad93deb0-af54-4a9f-bba0-2707b1fba969",
   "metadata": {},
   "outputs": [],
   "source": []
  }
 ],
 "metadata": {
  "instance_type": "ml.g4dn.12xlarge",
  "kernelspec": {
   "display_name": "Python 3 (PyTorch 1.10 Python 3.8 GPU Optimized)",
   "language": "python",
   "name": "python3__SAGEMAKER_INTERNAL__arn:aws:sagemaker:us-east-1:081325390199:image/pytorch-1.10-gpu-py38"
  },
  "language_info": {
   "codemirror_mode": {
    "name": "ipython",
    "version": 3
   },
   "file_extension": ".py",
   "mimetype": "text/x-python",
   "name": "python",
   "nbconvert_exporter": "python",
   "pygments_lexer": "ipython3",
   "version": "3.8.10"
  }
 },
 "nbformat": 4,
 "nbformat_minor": 5
}
