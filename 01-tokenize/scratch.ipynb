{
 "cells": [
  {
   "cell_type": "code",
   "execution_count": 1,
   "id": "73e14d51-345a-4ec5-ae4d-c48fa10fcf0c",
   "metadata": {
    "tags": []
   },
   "outputs": [],
   "source": [
    "import pandas as pd"
   ]
  },
  {
   "cell_type": "code",
   "execution_count": null,
   "id": "542d78cf-a88f-43c0-b03e-55223c4fc41e",
   "metadata": {},
   "outputs": [],
   "source": []
  },
  {
   "cell_type": "code",
   "execution_count": null,
   "id": "d0c9c8b8-d999-43e7-955c-9399b2f95c67",
   "metadata": {},
   "outputs": [],
   "source": []
  },
  {
   "cell_type": "code",
   "execution_count": null,
   "id": "065481cc-7f92-4d6f-894e-5ec6a058fe0d",
   "metadata": {},
   "outputs": [],
   "source": []
  },
  {
   "cell_type": "code",
   "execution_count": null,
   "id": "0010bcdd-cbde-4756-83b6-b5a0f588c864",
   "metadata": {},
   "outputs": [],
   "source": []
  },
  {
   "cell_type": "code",
   "execution_count": null,
   "id": "8579ed6c-9077-4a67-bafe-c0428b112109",
   "metadata": {},
   "outputs": [],
   "source": []
  },
  {
   "cell_type": "code",
   "execution_count": null,
   "id": "672a15b3-0901-405c-931f-bd5b9c35595d",
   "metadata": {},
   "outputs": [],
   "source": []
  },
  {
   "cell_type": "code",
   "execution_count": null,
   "id": "ef6107c3-ea5a-4ef0-ab3b-8237ef8e657b",
   "metadata": {},
   "outputs": [],
   "source": []
  },
  {
   "cell_type": "code",
   "execution_count": 52,
   "id": "3e71f2c5-fafb-4bbb-b364-497bb1cfefe8",
   "metadata": {
    "tags": []
   },
   "outputs": [
    {
     "data": {
      "text/html": [
       "<div>\n",
       "<style scoped>\n",
       "    .dataframe tbody tr th:only-of-type {\n",
       "        vertical-align: middle;\n",
       "    }\n",
       "\n",
       "    .dataframe tbody tr th {\n",
       "        vertical-align: top;\n",
       "    }\n",
       "\n",
       "    .dataframe thead th {\n",
       "        text-align: right;\n",
       "    }\n",
       "</style>\n",
       "<table border=\"1\" class=\"dataframe\">\n",
       "  <thead>\n",
       "    <tr style=\"text-align: right;\">\n",
       "      <th></th>\n",
       "      <th>question</th>\n",
       "      <th>answer</th>\n",
       "    </tr>\n",
       "  </thead>\n",
       "  <tbody>\n",
       "    <tr>\n",
       "      <th>0</th>\n",
       "      <td>i have a few symptoms like the stomachache, co...</td>\n",
       "      <td>stomach troubles aren't a common symptom of th...</td>\n",
       "    </tr>\n",
       "    <tr>\n",
       "      <th>1</th>\n",
       "      <td>social distancing &amp; business operations during...</td>\n",
       "      <td>q. do you have best practices to share with re...</td>\n",
       "    </tr>\n",
       "    <tr>\n",
       "      <th>2</th>\n",
       "      <td>should i wear a respirator in public?</td>\n",
       "      <td>most often, spread of respiratory viruses from...</td>\n",
       "    </tr>\n",
       "    <tr>\n",
       "      <th>3</th>\n",
       "      <td>set boundaries so caring for the person doesn’...</td>\n",
       "      <td>it’s very important to continue taking care of...</td>\n",
       "    </tr>\n",
       "    <tr>\n",
       "      <th>4</th>\n",
       "      <td>what if my time off is not approved and i don’...</td>\n",
       "      <td>you will be treated just as you would if you d...</td>\n",
       "    </tr>\n",
       "  </tbody>\n",
       "</table>\n",
       "</div>"
      ],
      "text/plain": [
       "                                            question  \\\n",
       "0  i have a few symptoms like the stomachache, co...   \n",
       "1  social distancing & business operations during...   \n",
       "2              should i wear a respirator in public?   \n",
       "3  set boundaries so caring for the person doesn’...   \n",
       "4  what if my time off is not approved and i don’...   \n",
       "\n",
       "                                              answer  \n",
       "0  stomach troubles aren't a common symptom of th...  \n",
       "1  q. do you have best practices to share with re...  \n",
       "2  most often, spread of respiratory viruses from...  \n",
       "3  it’s very important to continue taking care of...  \n",
       "4  you will be treated just as you would if you d...  "
      ]
     },
     "execution_count": 52,
     "metadata": {},
     "output_type": "execute_result"
    }
   ],
   "source": [
    "df = pd.read_csv('./data/faq_test.csv')\n",
    "df.head()"
   ]
  },
  {
   "cell_type": "code",
   "execution_count": 53,
   "id": "e8520feb-929c-473f-865b-3b1029b358e9",
   "metadata": {
    "tags": []
   },
   "outputs": [
    {
     "name": "stdout",
     "output_type": "stream",
     "text": [
      "if the employee has not worked long enough to be eligible for efmla, can they still take paid covid-19 leave?   \n"
     ]
    }
   ],
   "source": [
    "import re\n",
    "\n",
    "def remove_date(input_string):\n",
    "    return re.sub(r\"\\((posted|updated|new) \\d{1,2}/\\d{1,2}(/\\d{2,4})?\\)\", \"\", input_string)\n",
    "\n",
    "input_str = \"if the employee has not worked long enough to be eligible for efmla, can they still take paid covid-19 leave? (posted 8/5/20) (updated 8/5/20) (new 5/11)\"\n",
    "output_str = remove_date(input_str)\n",
    "print(output_str)\n"
   ]
  },
  {
   "cell_type": "code",
   "execution_count": 54,
   "id": "747fb615-5f52-4dcf-b227-59d57378f180",
   "metadata": {
    "tags": []
   },
   "outputs": [
    {
     "name": "stdout",
     "output_type": "stream",
     "text": [
      "if the employee has not worked long enough to be eligible for efmla, can they still take paid covid-19 leave? \n"
     ]
    }
   ],
   "source": [
    "import re\n",
    "\n",
    "def remove_date2(input_string):\n",
    "    return re.sub(r\"\\(posted \\w+ \\d{1,2}, \\d{4}\\)\", \"\", input_string)\n",
    "\n",
    "input_str = \"if the employee has not worked long enough to be eligible for efmla, can they still take paid covid-19 leave? (posted march 17, 2020)\"\n",
    "output_str = remove_date2(input_str)\n",
    "print(output_str)\n"
   ]
  },
  {
   "cell_type": "code",
   "execution_count": 55,
   "id": "1f8c4441-0f39-4512-b8b1-c004cf41ee46",
   "metadata": {
    "tags": []
   },
   "outputs": [],
   "source": [
    "from collections import Counter\n",
    "counter = Counter()\n",
    "cnts = []\n",
    "\n",
    "qq = []\n",
    "aa = []\n",
    "for _, row, in df.iterrows():\n",
    "    q, ans = row\n",
    "    a = ans.replace('\\n', ' ').replace('\\xa0', ' ')\n",
    "    a = a.replace('\\u200b', ' ').replace('\\u200a', ' ')\n",
    "    a = a.replace('  ', ' ')\n",
    "    a = a.split('. ')\n",
    "    \n",
    "    q = q.replace('\\n', ' ').replace('\\xa0', ' ')\n",
    "    q = q.replace('\\u200b', ' ').replace('\\u200a', ' ')\n",
    "    q = q.replace('  ', ' ')\n",
    "    q = remove_date(q)\n",
    "    q = remove_date2(q)\n",
    "    q = q.strip()\n",
    "    \n",
    "    cnts.append(len(a))\n",
    "    if len(a) <= 3 and len(ans) > 50 and len(ans) < 500 and len(q) <= 300 and len(q) > 10:\n",
    "        a = '. '.join(a).strip()\n",
    "        #print(q, len(q))\n",
    "        #print()\n",
    "        #print(a, len(ans))\n",
    "        #print()\n",
    "        qq.append(q)\n",
    "        aa.append(a)"
   ]
  },
  {
   "cell_type": "code",
   "execution_count": 56,
   "id": "5deeff60-82da-4550-b1ad-8cbbbf36af58",
   "metadata": {
    "tags": []
   },
   "outputs": [],
   "source": [
    "ddf = pd.DataFrame({'question': qq, 'answer': aa})"
   ]
  },
  {
   "cell_type": "code",
   "execution_count": 57,
   "id": "772eda3b-ab56-44f8-a0a3-bbbbb76903a8",
   "metadata": {
    "tags": []
   },
   "outputs": [
    {
     "data": {
      "text/html": [
       "<div>\n",
       "<style scoped>\n",
       "    .dataframe tbody tr th:only-of-type {\n",
       "        vertical-align: middle;\n",
       "    }\n",
       "\n",
       "    .dataframe tbody tr th {\n",
       "        vertical-align: top;\n",
       "    }\n",
       "\n",
       "    .dataframe thead th {\n",
       "        text-align: right;\n",
       "    }\n",
       "</style>\n",
       "<table border=\"1\" class=\"dataframe\">\n",
       "  <thead>\n",
       "    <tr style=\"text-align: right;\">\n",
       "      <th></th>\n",
       "      <th>question</th>\n",
       "      <th>answer</th>\n",
       "    </tr>\n",
       "  </thead>\n",
       "  <tbody>\n",
       "    <tr>\n",
       "      <th>0</th>\n",
       "      <td>i have a few symptoms like the stomachache, co...</td>\n",
       "      <td>stomach troubles aren't a common symptom of th...</td>\n",
       "    </tr>\n",
       "    <tr>\n",
       "      <th>1</th>\n",
       "      <td>what if my time off is not approved and i don’...</td>\n",
       "      <td>you will be treated just as you would if you d...</td>\n",
       "    </tr>\n",
       "    <tr>\n",
       "      <th>2</th>\n",
       "      <td>where can i find more information about animal...</td>\n",
       "      <td>for more information, check out the following ...</td>\n",
       "    </tr>\n",
       "    <tr>\n",
       "      <th>3</th>\n",
       "      <td>what precautions should i take during travel?</td>\n",
       "      <td>during travel, everyone should clean hands fre...</td>\n",
       "    </tr>\n",
       "    <tr>\n",
       "      <th>4</th>\n",
       "      <td>use a contactless payment method if you can.</td>\n",
       "      <td>to avoid spreading germs during a cash or cred...</td>\n",
       "    </tr>\n",
       "  </tbody>\n",
       "</table>\n",
       "</div>"
      ],
      "text/plain": [
       "                                            question  \\\n",
       "0  i have a few symptoms like the stomachache, co...   \n",
       "1  what if my time off is not approved and i don’...   \n",
       "2  where can i find more information about animal...   \n",
       "3      what precautions should i take during travel?   \n",
       "4       use a contactless payment method if you can.   \n",
       "\n",
       "                                              answer  \n",
       "0  stomach troubles aren't a common symptom of th...  \n",
       "1  you will be treated just as you would if you d...  \n",
       "2  for more information, check out the following ...  \n",
       "3  during travel, everyone should clean hands fre...  \n",
       "4  to avoid spreading germs during a cash or cred...  "
      ]
     },
     "execution_count": 57,
     "metadata": {},
     "output_type": "execute_result"
    }
   ],
   "source": [
    "ddf.head()"
   ]
  },
  {
   "cell_type": "code",
   "execution_count": 58,
   "id": "7a83e4f3-f6b2-40fa-8714-f544f1bcef4d",
   "metadata": {
    "tags": []
   },
   "outputs": [],
   "source": [
    "ddf.to_csv('faq_test.csv', index=False)"
   ]
  },
  {
   "cell_type": "code",
   "execution_count": null,
   "id": "c065a3dd-c53f-4d64-9858-96ec22dc8687",
   "metadata": {},
   "outputs": [],
   "source": []
  }
 ],
 "metadata": {
  "instance_type": "ml.t3.medium",
  "kernelspec": {
   "display_name": "Python 3 (Data Science)",
   "language": "python",
   "name": "python3__SAGEMAKER_INTERNAL__arn:aws:sagemaker:us-east-1:081325390199:image/datascience-1.0"
  },
  "language_info": {
   "codemirror_mode": {
    "name": "ipython",
    "version": 3
   },
   "file_extension": ".py",
   "mimetype": "text/x-python",
   "name": "python",
   "nbconvert_exporter": "python",
   "pygments_lexer": "ipython3",
   "version": "3.7.10"
  }
 },
 "nbformat": 4,
 "nbformat_minor": 5
}
